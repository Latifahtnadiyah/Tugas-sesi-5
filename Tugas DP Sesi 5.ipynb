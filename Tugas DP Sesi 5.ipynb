{
 "cells": [
  {
   "cell_type": "code",
   "execution_count": 1,
   "id": "5e7ca2c2",
   "metadata": {},
   "outputs": [
    {
     "name": "stdout",
     "output_type": "stream",
     "text": [
      "masukkan nama : Latifah Tasliyatunadiyah\n",
      "masukkan nama kelas : TI22H\n",
      "masukkan alamat : Kalapanunggal\n",
      "masukkan hobi : Traveling\n",
      "nama saya Latifah Tasliyatunadiyah, saya dari kelas TI22H, alamat saya di Kalapanunggal, hobi saya adalah Traveling\n"
     ]
    }
   ],
   "source": [
    "nama = input(\"masukkan nama : \")\n",
    "kelas = input(\"masukkan nama kelas : \")\n",
    "alamat = input(\"masukkan alamat : \")\n",
    "hobi = input(\"masukkan hobi : \")\n",
    "\n",
    "print(f\"nama saya {nama}, saya dari kelas {kelas}, alamat saya di {alamat}, hobi saya adalah {hobi}\")\n"
   ]
  },
  {
   "cell_type": "code",
   "execution_count": 27,
   "id": "b901c0c7",
   "metadata": {},
   "outputs": [
    {
     "name": "stdout",
     "output_type": "stream",
     "text": [
      "putra nusa\n",
      "NIVERSITAS NSA PTRA SKABMI\n",
      "SUKABUMI PUTRA NUSA UNIVERSITAS\n",
      "UNPS\n",
      "TAS SAPU BUMI\n"
     ]
    }
   ],
   "source": [
    "kalimat = (\"UNIVERSITAS NUSA PUTRA SUKABUMI\")\n",
    "print(kalimat. lower() [17:22], kalimat.lower()[12:16])\n",
    "print(kalimat.replace('U', ''))\n",
    "print(kalimat[23:31], kalimat[17:22], kalimat[12:16], kalimat[0:11])\n",
    "print(kalimat[0]+kalimat[12]+kalimat[17]+kalimat[23])\n",
    "print(kalimat[8:11],kalimat[14:16]+kalimat[17:19],kalimat[27:31])"
   ]
  }
 ],
 "metadata": {
  "kernelspec": {
   "display_name": "Python 3 (ipykernel)",
   "language": "python",
   "name": "python3"
  },
  "language_info": {
   "codemirror_mode": {
    "name": "ipython",
    "version": 3
   },
   "file_extension": ".py",
   "mimetype": "text/x-python",
   "name": "python",
   "nbconvert_exporter": "python",
   "pygments_lexer": "ipython3",
   "version": "3.9.12"
  }
 },
 "nbformat": 4,
 "nbformat_minor": 5
}
